{
  "cells": [
    {
      "cell_type": "markdown",
      "metadata": {
        "id": "view-in-github",
        "colab_type": "text"
      },
      "source": [
        "<a href=\"https://colab.research.google.com/github/bcbsf-iscte/Aula7.2ES2023/blob/main/notebooks/01-python.ipynb\" target=\"_parent\"><img src=\"https://colab.research.google.com/assets/colab-badge.svg\" alt=\"Open In Colab\"/></a>"
      ]
    },
    {
      "cell_type": "markdown",
      "metadata": {
        "id": "yYqOu7l00Ix5"
      },
      "source": [
        "# Introdução à linguagem Python\n",
        "\n",
        "Criada por Guido van Rossum em 1991, [Python](https://www.python.org/) é uma linguagem de programação de alto nível, reconhecida pela sua simplicidade, clareza e facilidade de aprendizagem. Com uma ampla coleção de módulos e ferramentas associadas, Python é uma linguagem versátil e poderosa, ideal para quer para iniciantes, quer para profissionais em diversas áreas da computação. Atualmente é uma das linguagens de programação mais populares do mundo, especialmente em comunidades dedicadas à aprendizagem automática."
      ]
    },
    {
      "cell_type": "markdown",
      "metadata": {
        "id": "VDb230bZ0Ix_"
      },
      "source": [
        "## Exemplos"
      ]
    },
    {
      "cell_type": "markdown",
      "metadata": {
        "id": "CnVmbxHT0Ix_"
      },
      "source": [
        "### Olá mundo!"
      ]
    },
    {
      "cell_type": "code",
      "execution_count": 2,
      "metadata": {
        "id": "4qv1krrV0IyA",
        "outputId": "9a5fb769-ad20-4243-d721-52b6b006e9fe",
        "colab": {
          "base_uri": "https://localhost:8080/"
        }
      },
      "outputs": [
        {
          "output_type": "stream",
          "name": "stdout",
          "text": [
            "Hello World!\n"
          ]
        }
      ],
      "source": [
        "print('Hello World!')"
      ]
    },
    {
      "cell_type": "markdown",
      "metadata": {
        "id": "etykMows0IyB"
      },
      "source": [
        "### Cálculo da média"
      ]
    },
    {
      "cell_type": "code",
      "execution_count": 3,
      "metadata": {
        "id": "RXKPEzDS0IyC",
        "outputId": "933f53c4-4341-4c45-db34-adb26d0146fc",
        "colab": {
          "base_uri": "https://localhost:8080/"
        }
      },
      "outputs": [
        {
          "output_type": "execute_result",
          "data": {
            "text/plain": [
              "14.0"
            ]
          },
          "metadata": {},
          "execution_count": 3
        }
      ],
      "source": [
        "numbers = [10, 7, 22, 14, 17]\n",
        "\n",
        "total = 0.0\n",
        "n = 0.0\n",
        "for val in numbers:\n",
        "    total = total + val\n",
        "    n += 1\n",
        "\n",
        "total / n"
      ]
    },
    {
      "cell_type": "markdown",
      "metadata": {
        "id": "aUMs2TG70IyC"
      },
      "source": [
        "Ou..."
      ]
    },
    {
      "cell_type": "code",
      "execution_count": 4,
      "metadata": {
        "id": "KMWA-pbn0IyD",
        "outputId": "d27c4e10-4381-4735-a911-f06769b01265",
        "colab": {
          "base_uri": "https://localhost:8080/"
        }
      },
      "outputs": [
        {
          "output_type": "execute_result",
          "data": {
            "text/plain": [
              "14.0"
            ]
          },
          "metadata": {},
          "execution_count": 4
        }
      ],
      "source": [
        "numbers = [10, 7, 22, 14, 17]\n",
        "\n",
        "sum(numbers) / len(numbers)"
      ]
    },
    {
      "cell_type": "markdown",
      "metadata": {
        "tags": [],
        "id": "-oH4GXwK0IyD"
      },
      "source": [
        "## Tipos\n",
        "\n",
        "Em Python, os tipos das variáveis não têm de ser declarados explicitamente. O sistema de tipos é dinâmico, ou seja, valores de tipos diferentes podem ser atribuídos à mesma variável ao longo da execução do programa. Isto oferece flexibilidade, mas também requer atenção por parte do programador ao lidar com diferentes tipos de dados para evitar erros durante a execução do código. Existem casos em que é possível explicitar o tipo esperado de algumas variáveis, no entanto, a não ser que sejam usadas ferramentas externas, essa informação serve apenas para tornar o código mais claro."
      ]
    },
    {
      "cell_type": "markdown",
      "metadata": {
        "id": "Cjwq2nB60IyE"
      },
      "source": [
        "### Tipos básicos\n",
        "\n",
        "- [Números](#Números) ([inteiros](#Inteiros) e [vírgula flutuante](#Vírgula-flutuante))\n",
        "- [Booleanos](#Booleanos)\n",
        "- [Cadeias de caracteres](#Cadeias-de-caracteres)\n",
        "- [Listas](#Listas), [Tuplos](#Tuplos) e [Conjuntos](#Conjuntos)\n",
        "- [Dicionários](#Dicionários)\n",
        "- [Tipo nulo](#Tipo-nulo)"
      ]
    },
    {
      "cell_type": "markdown",
      "metadata": {
        "id": "zn3thx0H0IyI"
      },
      "source": [
        "### Booleanos\n",
        "\n",
        "Em Python os valores verdadeiro e falso são representados pelos booleanos `True` e `False`."
      ]
    },
    {
      "cell_type": "markdown",
      "metadata": {
        "id": "uK_4m1lo0IyE"
      },
      "source": [
        "### Números"
      ]
    },
    {
      "cell_type": "markdown",
      "metadata": {
        "id": "9u8uGoZ-0IyF"
      },
      "source": [
        "#### Inteiros"
      ]
    },
    {
      "cell_type": "code",
      "execution_count": 9,
      "metadata": {
        "id": "g5Kern5l0IyF",
        "outputId": "2c69b35a-1e22-46ea-946e-43d986903861",
        "colab": {
          "base_uri": "https://localhost:8080/"
        }
      },
      "outputs": [
        {
          "output_type": "execute_result",
          "data": {
            "text/plain": [
              "7"
            ]
          },
          "metadata": {},
          "execution_count": 9
        }
      ],
      "source": [
        "a = 1\n",
        "b = 2\n",
        "c = 3\n",
        "a + b * c"
      ]
    },
    {
      "cell_type": "markdown",
      "metadata": {
        "id": "AGrlUDtX0IyF"
      },
      "source": [
        "#### Vírgula flutuante"
      ]
    },
    {
      "cell_type": "code",
      "execution_count": 10,
      "metadata": {
        "id": "H5qfGqju0IyF",
        "outputId": "f4d57589-7aef-4034-f40a-9afd637d8adb",
        "colab": {
          "base_uri": "https://localhost:8080/"
        }
      },
      "outputs": [
        {
          "output_type": "execute_result",
          "data": {
            "text/plain": [
              "1.0025"
            ]
          },
          "metadata": {},
          "execution_count": 10
        }
      ],
      "source": [
        "a = 1.0\n",
        "b = 2.5\n",
        "c = 1e-3\n",
        "\n",
        "a + b * c"
      ]
    },
    {
      "cell_type": "markdown",
      "metadata": {
        "tags": [],
        "id": "LUaSDnya0IyG"
      },
      "source": [
        "#### Mistura de tipos numéricos\n",
        "\n",
        "O resultado de uma operação numérica que involva vírgula flutuante é um número de vírgula flutuante:"
      ]
    },
    {
      "cell_type": "code",
      "execution_count": 11,
      "metadata": {
        "tags": [],
        "id": "2AWuxYNE0IyG",
        "outputId": "802391e2-bc53-4be9-92c9-75112cd7715b",
        "colab": {
          "base_uri": "https://localhost:8080/"
        }
      },
      "outputs": [
        {
          "output_type": "execute_result",
          "data": {
            "text/plain": [
              "8.0"
            ]
          },
          "metadata": {},
          "execution_count": 11
        }
      ],
      "source": [
        "a = 2\n",
        "b = 2.0\n",
        "c = 3\n",
        "\n",
        "a + b * c"
      ]
    },
    {
      "cell_type": "markdown",
      "metadata": {
        "id": "osaQJsL80IyG"
      },
      "source": [
        "A não ser que a operação não seja válida:"
      ]
    },
    {
      "cell_type": "code",
      "execution_count": 12,
      "metadata": {
        "id": "HzSilOHp0IyG",
        "outputId": "145d563b-0833-46cc-fc0c-6d3679338364",
        "colab": {
          "base_uri": "https://localhost:8080/",
          "height": 141
        }
      },
      "outputs": [
        {
          "output_type": "error",
          "ename": "ZeroDivisionError",
          "evalue": "float division by zero",
          "traceback": [
            "\u001b[0;31m---------------------------------------------------------------------------\u001b[0m",
            "\u001b[0;31mZeroDivisionError\u001b[0m                         Traceback (most recent call last)",
            "\u001b[0;32m<ipython-input-12-e8d52f2434e7>\u001b[0m in \u001b[0;36m<cell line: 1>\u001b[0;34m()\u001b[0m\n\u001b[0;32m----> 1\u001b[0;31m \u001b[0;36m1.0\u001b[0m \u001b[0;34m/\u001b[0m \u001b[0;36m0\u001b[0m\u001b[0;34m\u001b[0m\u001b[0;34m\u001b[0m\u001b[0m\n\u001b[0m",
            "\u001b[0;31mZeroDivisionError\u001b[0m: float division by zero"
          ]
        }
      ],
      "source": [
        "1.0 / 0"
      ]
    },
    {
      "cell_type": "markdown",
      "metadata": {
        "id": "_UyYAQXc0IyG"
      },
      "source": [
        "#### Conversão de tipos numéricos"
      ]
    },
    {
      "cell_type": "code",
      "execution_count": null,
      "metadata": {
        "id": "NBQU7IP60IyH"
      },
      "outputs": [],
      "source": [
        "float(10)"
      ]
    },
    {
      "cell_type": "code",
      "execution_count": null,
      "metadata": {
        "id": "N2_PoDnv0IyH"
      },
      "outputs": [],
      "source": [
        "int(3.3)"
      ]
    },
    {
      "cell_type": "markdown",
      "metadata": {
        "id": "e7Xxeu1M0IyH"
      },
      "source": [
        "**Nota**: A conversão de números de vírgula flutuante em inteiros é feita por truncamento e não por arrendondamento."
      ]
    },
    {
      "cell_type": "code",
      "execution_count": null,
      "metadata": {
        "id": "lcwGHvjN0IyH"
      },
      "outputs": [],
      "source": [
        "int(3.7)"
      ]
    },
    {
      "cell_type": "code",
      "execution_count": null,
      "metadata": {
        "id": "C39Foy_i0IyH"
      },
      "outputs": [],
      "source": [
        "round(3.7)"
      ]
    },
    {
      "cell_type": "markdown",
      "metadata": {
        "id": "ng-E6gFq0IyI"
      },
      "source": [
        "#### Operações\n",
        "\n",
        "- Adição: `a + b`\n",
        "- Subtração: `a - b`\n",
        "- Multiplicação: `a * b`\n",
        "- Potência: `a ** b`\n",
        "- Menos unário: `-a`\n",
        "\n",
        "Então e a divisão?\n",
        "\n",
        "Existem dois tipos:\n",
        "\n",
        "- Vírgula flutuante: `a / b`\n",
        "- Inteira: `a // b`\n",
        "- Resto da divisão inteira: `a % b`"
      ]
    },
    {
      "cell_type": "code",
      "execution_count": null,
      "metadata": {
        "id": "4QDtS7Q20IyI"
      },
      "outputs": [],
      "source": [
        "a = 10\n",
        "b = 3\n",
        "c = 9\n",
        "\n",
        "print(a / b)\n",
        "print(a // b)\n",
        "print(a % b)\n",
        "\n",
        "print(c / b)\n",
        "print(a // float(b))"
      ]
    },
    {
      "cell_type": "code",
      "execution_count": null,
      "metadata": {
        "id": "CdSvACIe0IyI"
      },
      "outputs": [],
      "source": [
        "True"
      ]
    },
    {
      "cell_type": "code",
      "execution_count": null,
      "metadata": {
        "id": "MrgWGxqg0IyJ"
      },
      "outputs": [],
      "source": [
        "False"
      ]
    },
    {
      "cell_type": "markdown",
      "metadata": {
        "id": "5LqGBnSm0IyJ"
      },
      "source": [
        "### Cadeias de caracteres\n",
        "\n",
        "Em Python, as cadeias de caracteres são delimitadas por `'` ou `\"`:"
      ]
    },
    {
      "cell_type": "code",
      "execution_count": 13,
      "metadata": {
        "id": "WI5OTBdI0IyJ",
        "outputId": "85ee5ead-bfac-4689-ab8e-02e2fab48ed4",
        "colab": {
          "base_uri": "https://localhost:8080/"
        }
      },
      "outputs": [
        {
          "output_type": "stream",
          "name": "stdout",
          "text": [
            "John Doe\n"
          ]
        }
      ],
      "source": [
        "first = 'John'\n",
        "last = \"Doe\"\n",
        "\n",
        "print(first, last)"
      ]
    },
    {
      "cell_type": "markdown",
      "metadata": {
        "id": "D1g2OBB20IyJ"
      },
      "source": [
        "Estas cadeias de caracteres têm de estar contidas numa única linha."
      ]
    },
    {
      "cell_type": "code",
      "execution_count": 14,
      "metadata": {
        "id": "Ols824rm0IyK",
        "outputId": "f6bfb12a-6bbc-4714-c95b-4b2e02f3883e",
        "colab": {
          "base_uri": "https://localhost:8080/",
          "height": 106
        }
      },
      "outputs": [
        {
          "output_type": "error",
          "ename": "SyntaxError",
          "evalue": "unterminated string literal (detected at line 1) (<ipython-input-14-e5be486c589e>, line 1)",
          "traceback": [
            "\u001b[0;36m  File \u001b[0;32m\"<ipython-input-14-e5be486c589e>\"\u001b[0;36m, line \u001b[0;32m1\u001b[0m\n\u001b[0;31m    lines = 'Two\u001b[0m\n\u001b[0m            ^\u001b[0m\n\u001b[0;31mSyntaxError\u001b[0m\u001b[0;31m:\u001b[0m unterminated string literal (detected at line 1)\n"
          ]
        }
      ],
      "source": [
        "lines = 'Two\n",
        "        lines'"
      ]
    },
    {
      "cell_type": "markdown",
      "metadata": {
        "id": "C03WdlAO0IyK"
      },
      "source": [
        "Os caracteres especiais (incluindo a mudança de linha) devem ser introduzidos usando sequências de escape (ex: `\\n`)."
      ]
    },
    {
      "cell_type": "code",
      "execution_count": 15,
      "metadata": {
        "id": "o-iZMYvA0IyK",
        "outputId": "874d3d39-a26c-4e86-d141-f0d513d1b284",
        "colab": {
          "base_uri": "https://localhost:8080/"
        }
      },
      "outputs": [
        {
          "output_type": "stream",
          "name": "stdout",
          "text": [
            "Two\n",
            "\tlines\n"
          ]
        }
      ],
      "source": [
        "lines = 'Two\\n\\tlines'\n",
        "print(lines)"
      ]
    },
    {
      "cell_type": "markdown",
      "metadata": {
        "id": "cdm8O6CL0IyK"
      },
      "source": [
        "Alternativamente, cadeias de caracteres longas podem ser delimitadas por `'''`. Neste caso, os caracteres especiais podem ser usados diretamente."
      ]
    },
    {
      "cell_type": "code",
      "execution_count": 16,
      "metadata": {
        "id": "W9c3jInv0IyK"
      },
      "outputs": [],
      "source": [
        "long = '''This is a long string.\n",
        "It can have multiple lines.\n",
        "\n",
        "\tAnd other special characters.'''"
      ]
    },
    {
      "cell_type": "code",
      "execution_count": 17,
      "metadata": {
        "id": "ODTgPsPD0IyL",
        "outputId": "16c310ff-03b4-4112-fedf-7c8674292c65",
        "colab": {
          "base_uri": "https://localhost:8080/",
          "height": 35
        }
      },
      "outputs": [
        {
          "output_type": "execute_result",
          "data": {
            "text/plain": [
              "'This is a long string.\\nIt can have multiple lines.\\n\\n\\tAnd other special characters.'"
            ],
            "application/vnd.google.colaboratory.intrinsic+json": {
              "type": "string"
            }
          },
          "metadata": {},
          "execution_count": 17
        }
      ],
      "source": [
        "long"
      ]
    },
    {
      "cell_type": "code",
      "execution_count": 18,
      "metadata": {
        "id": "GtUHHfRz0IyR",
        "outputId": "615fba39-c2a2-4f48-e652-d33f2528e5db",
        "colab": {
          "base_uri": "https://localhost:8080/"
        }
      },
      "outputs": [
        {
          "output_type": "stream",
          "name": "stdout",
          "text": [
            "This is a long string.\n",
            "It can have multiple lines.\n",
            "\n",
            "\tAnd other special characters.\n"
          ]
        }
      ],
      "source": [
        "print(long)"
      ]
    },
    {
      "cell_type": "markdown",
      "metadata": {
        "id": "N6pZiDeb0IyR"
      },
      "source": [
        "#### Acesso a partes de uma cadeia de caracteres"
      ]
    },
    {
      "cell_type": "markdown",
      "metadata": {
        "id": "x0Phss6r0IyS"
      },
      "source": [
        "Para aceder a caracteres específicos ou subcadeias, podemos usar o operador de indexação `[]`"
      ]
    },
    {
      "cell_type": "code",
      "execution_count": 19,
      "metadata": {
        "id": "a58J3gYV0IyS",
        "outputId": "5bf830b3-16b7-4319-89da-369b0423849f",
        "colab": {
          "base_uri": "https://localhost:8080/"
        }
      },
      "outputs": [
        {
          "output_type": "stream",
          "name": "stdout",
          "text": [
            "S\n",
            "Str\n",
            "g\n",
            "ng\n"
          ]
        }
      ],
      "source": [
        "string = 'String'\n",
        "\n",
        "print(string[0])      # gets the first char\n",
        "print(string[0:3])    # gets chars from 0 to 2\n",
        "print(string[-1])     # gets the last char\n",
        "print(string[-2:])    # gets the last 2 chars"
      ]
    },
    {
      "cell_type": "markdown",
      "metadata": {
        "id": "jbstdUeN0IyS"
      },
      "source": [
        "**Nota**: As cadeias de caracteres são **imutáveis**. Isto é, não podem ser alteradas diretamente."
      ]
    },
    {
      "cell_type": "code",
      "execution_count": 20,
      "metadata": {
        "id": "vNbQnCaz0IyS",
        "outputId": "e847b55d-b4e6-496b-899b-f9bd7c10938a",
        "colab": {
          "base_uri": "https://localhost:8080/",
          "height": 141
        }
      },
      "outputs": [
        {
          "output_type": "error",
          "ename": "TypeError",
          "evalue": "'str' object does not support item assignment",
          "traceback": [
            "\u001b[0;31m---------------------------------------------------------------------------\u001b[0m",
            "\u001b[0;31mTypeError\u001b[0m                                 Traceback (most recent call last)",
            "\u001b[0;32m<ipython-input-20-bbb228e067cd>\u001b[0m in \u001b[0;36m<cell line: 1>\u001b[0;34m()\u001b[0m\n\u001b[0;32m----> 1\u001b[0;31m \u001b[0mstring\u001b[0m\u001b[0;34m[\u001b[0m\u001b[0;36m1\u001b[0m\u001b[0;34m]\u001b[0m \u001b[0;34m=\u001b[0m \u001b[0;34m'p'\u001b[0m\u001b[0;34m\u001b[0m\u001b[0;34m\u001b[0m\u001b[0m\n\u001b[0m",
            "\u001b[0;31mTypeError\u001b[0m: 'str' object does not support item assignment"
          ]
        }
      ],
      "source": [
        "string[1] = 'p'"
      ]
    },
    {
      "cell_type": "markdown",
      "metadata": {
        "id": "Eq6_D0W-0IyS"
      },
      "source": [
        "Na prática, as alterações a cadeias de caracteres são feitas através da criação de novas cadeias."
      ]
    },
    {
      "cell_type": "code",
      "execution_count": 21,
      "metadata": {
        "id": "-GFaGbrN0IyT",
        "outputId": "f8ce9b19-e11b-42da-e328-3ad9f3c084ca",
        "colab": {
          "base_uri": "https://localhost:8080/"
        }
      },
      "outputs": [
        {
          "output_type": "stream",
          "name": "stdout",
          "text": [
            "Spring\n"
          ]
        }
      ],
      "source": [
        "string = string[0] + 'p' + string[2:]\n",
        "print(string)"
      ]
    },
    {
      "cell_type": "markdown",
      "metadata": {
        "id": "Uy6On97-0IyT"
      },
      "source": [
        "#### Operações sobre cadeias de caracteres\n",
        "\n",
        "Uma cadeia de caracteres é uma sequência, como tal, muitas das funções (e operadores) que podem ser aplicadas a outras sequências (ex: [listas](#listas)), podem também ser aplicadas a cadeias de caracteres. Um exemplo é o operador de indexação visto anteriormente. Outros exemplos importantes são a função `len`, que calcula o comprimento da cadeia de caracteres, e o operador `in` que pode ser usado para verificar se uma determinada cadeia de caracteres é uma subsequência de outra cadeia."
      ]
    },
    {
      "cell_type": "code",
      "execution_count": 22,
      "metadata": {
        "id": "tX6gh7rF0IyT",
        "outputId": "3f24d89e-2064-4427-8478-761860d4026d",
        "colab": {
          "base_uri": "https://localhost:8080/"
        }
      },
      "outputs": [
        {
          "output_type": "execute_result",
          "data": {
            "text/plain": [
              "6"
            ]
          },
          "metadata": {},
          "execution_count": 22
        }
      ],
      "source": [
        "len('string')"
      ]
    },
    {
      "cell_type": "code",
      "execution_count": 23,
      "metadata": {
        "id": "nJx2lwxd0IyT",
        "outputId": "b6b8ec83-c298-4f38-c982-faa434ba09e7",
        "colab": {
          "base_uri": "https://localhost:8080/"
        }
      },
      "outputs": [
        {
          "output_type": "execute_result",
          "data": {
            "text/plain": [
              "True"
            ]
          },
          "metadata": {},
          "execution_count": 23
        }
      ],
      "source": [
        "'ing' in 'string'"
      ]
    },
    {
      "cell_type": "code",
      "execution_count": 24,
      "metadata": {
        "id": "6o9CC2ee0IyT",
        "outputId": "05a32f71-7603-457d-8341-42e9dc053b99",
        "colab": {
          "base_uri": "https://localhost:8080/"
        }
      },
      "outputs": [
        {
          "output_type": "execute_result",
          "data": {
            "text/plain": [
              "False"
            ]
          },
          "metadata": {},
          "execution_count": 24
        }
      ],
      "source": [
        "'int' in 'string'"
      ]
    },
    {
      "cell_type": "markdown",
      "metadata": {
        "id": "OFkEMTkm0IyU"
      },
      "source": [
        "Para além disso, a classe que representa as cadeias de caracteres em Python (`str`) define um conjunto de métodos úteis. Por exemplo:\n",
        "\n",
        "- `replace`\n",
        "- `lower`\n",
        "- `isnumeric`\n",
        "- `startswith`\n",
        "- `endswith`\n",
        "- `count`\n",
        "- `split`\n",
        "\n",
        "Em Python, os métodos são invocados usando a sintaxe `<objeto>.<método>(<argumentos>)`"
      ]
    },
    {
      "cell_type": "code",
      "execution_count": 25,
      "metadata": {
        "id": "0lsXS3jm0IyU",
        "outputId": "4db42c8d-fc8b-4da2-f5d6-bba7b1c88e45",
        "colab": {
          "base_uri": "https://localhost:8080/"
        }
      },
      "outputs": [
        {
          "output_type": "stream",
          "name": "stdout",
          "text": [
            "This is a spring.\n",
            "this is a string.\n",
            "False\n",
            "True\n",
            "True\n",
            "3\n",
            "['This', 'is', 'a', 'string.']\n"
          ]
        }
      ],
      "source": [
        "string = 'This is a string.'\n",
        "\n",
        "print(string.replace('t', 'p'))\n",
        "print(string.lower())\n",
        "print(string.isnumeric())\n",
        "print(string.startswith('Th'))\n",
        "print(string.endswith('.'))\n",
        "print(string.count('s'))\n",
        "print(string.split())"
      ]
    },
    {
      "cell_type": "markdown",
      "metadata": {
        "id": "0uDQJ0Sb0IyU"
      },
      "source": [
        "**Nota**: No contexto de um notebook como este, é possível adicionar `?` no final do nome de um método ou objeto para obter alguma ajuda."
      ]
    },
    {
      "cell_type": "code",
      "execution_count": 26,
      "metadata": {
        "id": "NvbcEHzN0IyU"
      },
      "outputs": [],
      "source": [
        "string?"
      ]
    },
    {
      "cell_type": "code",
      "execution_count": 27,
      "metadata": {
        "id": "Z_im2Qb50IyV"
      },
      "outputs": [],
      "source": [
        "string.replace?"
      ]
    },
    {
      "cell_type": "code",
      "execution_count": 28,
      "metadata": {
        "id": "qex_YDHz0IyV"
      },
      "outputs": [],
      "source": [
        "len?"
      ]
    },
    {
      "cell_type": "markdown",
      "metadata": {
        "id": "Z3oTApXp0IyV"
      },
      "source": [
        "#### Formatação de cadeias de caracteres\n",
        "\n",
        "Uma formatação adequada de cadeias de caracteres é relevante quando se quer apresentar texto ao utilizador, de forma a que este seja mais preciso e legível. Para além disso, em Python, os métodos de formatação de cadeias de caracteres podem também ser utilizados para preencher templates textuais com informação dada por expressões.\n",
        "\n",
        "A formatação de cadeias de caracteres pode ser feita usando o método `format` ou utilizando a sintaxe `f'string'`."
      ]
    },
    {
      "cell_type": "code",
      "execution_count": 29,
      "metadata": {
        "id": "XFpl1BQP0IyV",
        "outputId": "1d7363f6-ef1a-4360-b8c7-01f45a0d8495",
        "colab": {
          "base_uri": "https://localhost:8080/"
        }
      },
      "outputs": [
        {
          "output_type": "stream",
          "name": "stdout",
          "text": [
            "x = 1, x + y = 4.0\n",
            "x = 1, x + y = 4.0\n"
          ]
        }
      ],
      "source": [
        "x = 1\n",
        "y = 3.0\n",
        "print('x = {}, x + y = {}'.format(x, x + y))\n",
        "print(f'x = {x}, x + y = {x + y}')"
      ]
    },
    {
      "cell_type": "markdown",
      "metadata": {
        "id": "6wtV1RW00IyV"
      },
      "source": [
        "Quando é usado o método `format`, pode também ser indicada a posição ou o identificador do argumento pretendido em cada campo."
      ]
    },
    {
      "cell_type": "code",
      "execution_count": 30,
      "metadata": {
        "id": "vi5bbl0h0IyW",
        "outputId": "c7433f70-1a60-41c5-f5f2-e481f8a5a6ea",
        "colab": {
          "base_uri": "https://localhost:8080/"
        }
      },
      "outputs": [
        {
          "output_type": "stream",
          "name": "stdout",
          "text": [
            "My name is Bond, James Bond.\n",
            "My name is Bond, James Bond.\n"
          ]
        }
      ],
      "source": [
        "first = 'James'\n",
        "last = 'Bond'\n",
        "\n",
        "print('My name is {1}, {0} {1}.'.format(first, last))\n",
        "print('My name is {last}, {first} {last}.'.format(first=first, last=last))"
      ]
    },
    {
      "cell_type": "markdown",
      "metadata": {
        "id": "wRtKZXHF0IyW"
      },
      "source": [
        "Como demonstrado nos exemplos anteriores, se não for dada nenhuma indicação relativamente à formatação de um determinado campo, é utilizada a representação textual predefinida para o tipo do argumento. Para explicitar a formatação esperada, é usada a sintaxe `{:<format>}`. Há muitas [opções de formatação](https://docs.python.org/3/library/string.html#grammar-token-format-spec-format_spec), como por exemplo:\n",
        "\n",
        "- Espaço ocupado\n",
        "- Alinhamento\n",
        "- Base numérica\n",
        "- Casas decimais\n",
        "- Notação científica"
      ]
    },
    {
      "cell_type": "code",
      "execution_count": 31,
      "metadata": {
        "id": "I4ieYGxa0IyW",
        "outputId": "405f0ee6-d836-4bd8-bdf6-4405fb2db25f",
        "colab": {
          "base_uri": "https://localhost:8080/"
        }
      },
      "outputs": [
        {
          "output_type": "stream",
          "name": "stdout",
          "text": [
            "| string     |        255 | 0.3333333333333333\n",
            "|     string |    255     | 0.3333333333333333\n",
            "| string0000 | 0000000255 | 0.3333333333333333\n",
            "255.00 0.33\n",
            "ff\n",
            "3.333333e-01\n",
            "25,500\n"
          ]
        }
      ],
      "source": [
        "x = 255\n",
        "f = 1/3\n",
        "s = 'string'\n",
        "\n",
        "print(f'| {s:10} | {x:10} | {f:10}') # Each field has a minimum width of 10 characters. The default alignment depends on the type of the argument.\n",
        "print(f'| {s:>10} | {x:^10} | {f:<10}') # Specifying the alignment\n",
        "print(f'| {s:010} | {x:010} | {f:010}') # Use 0s to fill the space\n",
        "print(f'{x:.2f} {f:.2f}') # Represent the numeric values as floats with 2 decimal places\n",
        "print(f'{x:x}') # Hexadecimal base\n",
        "print(f'{f:e}') # Scientific notation\n",
        "print(f'{x*100:,}') # Thousands separator"
      ]
    },
    {
      "cell_type": "markdown",
      "metadata": {
        "id": "C0xJmrUg0IyW"
      },
      "source": [
        "**Nota**: É possível combinar múltiplas opções de formatação."
      ]
    },
    {
      "cell_type": "code",
      "execution_count": 32,
      "metadata": {
        "id": "kpeNm6Bl0IyW",
        "outputId": "e16b88df-7c6f-4b4a-937c-1cc00714a7c3",
        "colab": {
          "base_uri": "https://localhost:8080/",
          "height": 35
        }
      },
      "outputs": [
        {
          "output_type": "execute_result",
          "data": {
            "text/plain": [
              "'N: 00000000000000255.00'"
            ],
            "application/vnd.google.colaboratory.intrinsic+json": {
              "type": "string"
            }
          },
          "metadata": {},
          "execution_count": 32
        }
      ],
      "source": [
        "n = 13\n",
        "f'N: {x:>020,.2f}'"
      ]
    },
    {
      "cell_type": "markdown",
      "metadata": {
        "id": "3ktdk6Vq0IyX"
      },
      "source": [
        "### Listas\n",
        "\n",
        "Em Python, uma lista é definida usando parênteses retos `[]`, sendo os seus elementos separados por vírgulas. Os elementos das listas podem ser de qualquer tipo, incluindo outras listas."
      ]
    },
    {
      "cell_type": "code",
      "execution_count": 33,
      "metadata": {
        "id": "PERm5A7j0IyX"
      },
      "outputs": [],
      "source": [
        "nlst = [1, 2, 3, 4]\n",
        "vlst = [1, 3.3, 'hello']\n",
        "llst = [[1, 2], [5, 6, 0]]"
      ]
    },
    {
      "cell_type": "markdown",
      "metadata": {
        "id": "snWLKCYQ0IyX"
      },
      "source": [
        "Tal como as [cadeias de caracteres](#Operações-sobre-cadeias-de-caracteres), as listas são sequências. Logo, é possível aceder aos seus elementos usando o operador de indexação `[]` e calcular o seu comprimento usando a funçåo `len`. Podemos também verificar se a lista contem um determinado elemento usando o operador `in`. Para além disso, se os elementos da lista forem todos numéricos, a sua soma pode ser calculada usando a função `sum`."
      ]
    },
    {
      "cell_type": "code",
      "execution_count": 34,
      "metadata": {
        "id": "KVcK12WU0IyX",
        "outputId": "27f8466e-b23c-4126-96ee-03a00a6d2c25",
        "colab": {
          "base_uri": "https://localhost:8080/"
        }
      },
      "outputs": [
        {
          "output_type": "stream",
          "name": "stdout",
          "text": [
            "1\n",
            "[1, 3.3]\n",
            "[5, 6, 0]\n",
            "4\n",
            "True\n",
            "10\n"
          ]
        }
      ],
      "source": [
        "print(nlst[0])\n",
        "print(vlst[:2])\n",
        "print(llst[-1])\n",
        "print(len(nlst))\n",
        "print('hello' in vlst)\n",
        "print(sum(nlst))"
      ]
    },
    {
      "cell_type": "markdown",
      "metadata": {
        "id": "ss3GyJ8c0IyX"
      },
      "source": [
        "Ao contrário das cadeias de caracteres, as listas são mutáveis, ou seja, podem ser alteradas. Por exemplo, é possível atribuir um novo valor a uma determinada posição:"
      ]
    },
    {
      "cell_type": "code",
      "execution_count": 35,
      "metadata": {
        "id": "Fvp-ldwH0IyY",
        "outputId": "818daa83-bc24-4ff5-bb39-e853df7dbb5b",
        "colab": {
          "base_uri": "https://localhost:8080/"
        }
      },
      "outputs": [
        {
          "output_type": "stream",
          "name": "stdout",
          "text": [
            "[1, 4, 3]\n"
          ]
        }
      ],
      "source": [
        "lst = [1, 2, 3]\n",
        "lst[1] = 4\n",
        "print(lst)"
      ]
    },
    {
      "cell_type": "markdown",
      "metadata": {
        "id": "bnKKN9uM0IyY"
      },
      "source": [
        "A classe `list` também define um conjunto de métodos úteis. Por exemplo:\n",
        "\n",
        "- `append`\n",
        "- `insert`\n",
        "- `remove`\n",
        "- `sort`\n",
        "- `reverse`"
      ]
    },
    {
      "cell_type": "code",
      "execution_count": 36,
      "metadata": {
        "id": "f14_FrAA0IyY",
        "outputId": "179b97a4-0b04-4c77-c375-251aaf49efd2",
        "colab": {
          "base_uri": "https://localhost:8080/"
        }
      },
      "outputs": [
        {
          "output_type": "stream",
          "name": "stdout",
          "text": [
            "[1, 2, 3, 'hello']\n",
            "[1, 10, 2, 3, 'hello']\n",
            "[1, 10, 2, 3]\n",
            "[3, 2, 10, 1]\n",
            "[1, 2, 3, 10]\n"
          ]
        }
      ],
      "source": [
        "lst = [1, 2, 3]\n",
        "\n",
        "lst.append('hello')\n",
        "print(lst)\n",
        "\n",
        "lst.insert(1, 10)\n",
        "print(lst)\n",
        "\n",
        "lst.remove('hello')\n",
        "print(lst)\n",
        "\n",
        "lst.reverse()\n",
        "print(lst)\n",
        "\n",
        "lst.sort()\n",
        "print(lst)"
      ]
    },
    {
      "cell_type": "markdown",
      "metadata": {
        "id": "qGs3hGdy0IyY"
      },
      "source": [
        "**Nota**: Para usar o método `sort`, é necessário que os elementos da lista sejam comparáveis."
      ]
    },
    {
      "cell_type": "code",
      "execution_count": 37,
      "metadata": {
        "id": "ogCbcnRM0IyY",
        "outputId": "d21e8c8f-f141-4bbf-9e1f-84f1081ccf08",
        "colab": {
          "base_uri": "https://localhost:8080/",
          "height": 158
        }
      },
      "outputs": [
        {
          "output_type": "error",
          "ename": "TypeError",
          "evalue": "'<' not supported between instances of 'str' and 'int'",
          "traceback": [
            "\u001b[0;31m---------------------------------------------------------------------------\u001b[0m",
            "\u001b[0;31mTypeError\u001b[0m                                 Traceback (most recent call last)",
            "\u001b[0;32m<ipython-input-37-933ff54b4b4f>\u001b[0m in \u001b[0;36m<cell line: 2>\u001b[0;34m()\u001b[0m\n\u001b[1;32m      1\u001b[0m \u001b[0mlst\u001b[0m \u001b[0;34m=\u001b[0m \u001b[0;34m[\u001b[0m\u001b[0;36m1\u001b[0m\u001b[0;34m,\u001b[0m \u001b[0;34m'hello'\u001b[0m\u001b[0;34m,\u001b[0m \u001b[0;36m3\u001b[0m\u001b[0;34m]\u001b[0m\u001b[0;34m\u001b[0m\u001b[0;34m\u001b[0m\u001b[0m\n\u001b[0;32m----> 2\u001b[0;31m \u001b[0mlst\u001b[0m\u001b[0;34m.\u001b[0m\u001b[0msort\u001b[0m\u001b[0;34m(\u001b[0m\u001b[0;34m)\u001b[0m\u001b[0;34m\u001b[0m\u001b[0;34m\u001b[0m\u001b[0m\n\u001b[0m",
            "\u001b[0;31mTypeError\u001b[0m: '<' not supported between instances of 'str' and 'int'"
          ]
        }
      ],
      "source": [
        "lst = [1, 'hello', 3]\n",
        "lst.sort()"
      ]
    },
    {
      "cell_type": "markdown",
      "metadata": {
        "id": "YT35OAjZ0IyZ"
      },
      "source": [
        "O operador `+` pode ser usado para concatenar duas listas:"
      ]
    },
    {
      "cell_type": "code",
      "execution_count": 38,
      "metadata": {
        "id": "MKspx6Cu0IyZ",
        "outputId": "86c487c3-5fde-41e4-fa65-b330f0dfff5d",
        "colab": {
          "base_uri": "https://localhost:8080/"
        }
      },
      "outputs": [
        {
          "output_type": "execute_result",
          "data": {
            "text/plain": [
              "[1, 2, 3, 4, 5, 6]"
            ]
          },
          "metadata": {},
          "execution_count": 38
        }
      ],
      "source": [
        "[1, 2, 3] + [4, 5, 6]"
      ]
    },
    {
      "cell_type": "markdown",
      "metadata": {
        "id": "9ayJDlnr0IyZ"
      },
      "source": [
        "Como a maioria dos métodos sobre listas são destrutivos, pode ser necessário fazer uma cópia da lista original. Tal pode ser feito usando o método `copy`."
      ]
    },
    {
      "cell_type": "code",
      "execution_count": 39,
      "metadata": {
        "id": "RQfvVGuP0IyZ",
        "outputId": "6dbbe830-1cee-40fe-f024-44df1efb6000",
        "colab": {
          "base_uri": "https://localhost:8080/"
        }
      },
      "outputs": [
        {
          "output_type": "stream",
          "name": "stdout",
          "text": [
            "[1, 4, 3]\n",
            "[1, 2, 3]\n"
          ]
        }
      ],
      "source": [
        "lst = [1,2,3]\n",
        "\n",
        "lst2 = lst\n",
        "\n",
        "cp = lst.copy()\n",
        "\n",
        "lst2[1] = 4\n",
        "\n",
        "print(lst)\n",
        "print(cp)"
      ]
    },
    {
      "cell_type": "markdown",
      "metadata": {
        "id": "-2ziK4cn0Iya"
      },
      "source": [
        "**Nota**: O método `copy` é superficial, isto é, não é feita uma cópia dos elementos internos da lista."
      ]
    },
    {
      "cell_type": "code",
      "execution_count": 40,
      "metadata": {
        "id": "aoJK6_yp0Iya",
        "outputId": "c1b18014-1a2a-44bd-e9f5-39c257760ee1",
        "colab": {
          "base_uri": "https://localhost:8080/"
        }
      },
      "outputs": [
        {
          "output_type": "stream",
          "name": "stdout",
          "text": [
            "[5, [3, 2, 3], 4]\n",
            "[1, [3, 2, 3], 4]\n"
          ]
        }
      ],
      "source": [
        "lst = [1, [1, 2, 3], 4]\n",
        "\n",
        "cp = lst.copy()\n",
        "\n",
        "lst[0] = 5 # This will not be reflected in the copy\n",
        "lst[1][0] = 3 # But this will\n",
        "\n",
        "print(lst)\n",
        "print(cp)"
      ]
    },
    {
      "cell_type": "markdown",
      "metadata": {
        "id": "rmxbUK5v0Iya"
      },
      "source": [
        "### Tuplos\n",
        "\n",
        "Tuplos são como [listas](#Listas), mas **imutáveis**. Em Python, podem ser definidos apenas separando os seus elementos por vírgulas, ou então de forma semelhante às listas, mas usando parênteses curvos `()`."
      ]
    },
    {
      "cell_type": "code",
      "execution_count": 41,
      "metadata": {
        "id": "7v6pOsgs0Iya",
        "outputId": "07710f7a-db80-45a6-b0ce-f4061933b907",
        "colab": {
          "base_uri": "https://localhost:8080/"
        }
      },
      "outputs": [
        {
          "output_type": "stream",
          "name": "stdout",
          "text": [
            "(1, 2, 3.0, 'hello')\n",
            "(4, 5)\n"
          ]
        }
      ],
      "source": [
        "tpl = 1, 2, 3.0, \"hello\"\n",
        "tpl2 = (4, 5)\n",
        "\n",
        "print(tpl)\n",
        "print(tpl2)"
      ]
    },
    {
      "cell_type": "markdown",
      "metadata": {
        "id": "FOJbnwMl0Iya"
      },
      "source": [
        "**Nota**: Tuplos vazios ou com apenas um elemento são casos especiais."
      ]
    },
    {
      "cell_type": "code",
      "execution_count": 42,
      "metadata": {
        "id": "wQnWPARB0Iyb",
        "outputId": "9ce3a5cd-4be8-4e77-ff8d-a3a26b6d0a4e",
        "colab": {
          "base_uri": "https://localhost:8080/"
        }
      },
      "outputs": [
        {
          "output_type": "stream",
          "name": "stdout",
          "text": [
            "()\n",
            "(1,)\n",
            "(2,)\n"
          ]
        }
      ],
      "source": [
        "empty = ()\n",
        "singleton = 1,\n",
        "singleton2 = (2,)\n",
        "\n",
        "print(empty)\n",
        "print(singleton)\n",
        "print(singleton2)"
      ]
    },
    {
      "cell_type": "markdown",
      "metadata": {
        "id": "xP-jDi1m0Iyb"
      },
      "source": [
        "Os elementos de um tuplo podem ser acedidos da mesma forma que os de uma lista:"
      ]
    },
    {
      "cell_type": "code",
      "execution_count": 43,
      "metadata": {
        "id": "R0rL_zd50Iyb",
        "outputId": "cd626da2-9e9e-46df-c484-c4d7d5dd534c",
        "colab": {
          "base_uri": "https://localhost:8080/"
        }
      },
      "outputs": [
        {
          "output_type": "stream",
          "name": "stdout",
          "text": [
            "1\n",
            "(2, 3.0)\n",
            "hello\n"
          ]
        }
      ],
      "source": [
        "tpl = 1, 2, 3.0, \"hello\"\n",
        "\n",
        "print(tpl[0])\n",
        "print(tpl[1:3])\n",
        "print(tpl[-1])"
      ]
    },
    {
      "cell_type": "markdown",
      "metadata": {
        "id": "bcTcSgo30Iyb"
      },
      "source": [
        "No entanto, como os tuplos são imutáveis, não é possível alterá-los:"
      ]
    },
    {
      "cell_type": "code",
      "execution_count": 44,
      "metadata": {
        "id": "az4fJpHx0Iyb",
        "outputId": "afda7f89-277f-4755-f32e-914578860507",
        "colab": {
          "base_uri": "https://localhost:8080/",
          "height": 141
        }
      },
      "outputs": [
        {
          "output_type": "error",
          "ename": "TypeError",
          "evalue": "'tuple' object does not support item assignment",
          "traceback": [
            "\u001b[0;31m---------------------------------------------------------------------------\u001b[0m",
            "\u001b[0;31mTypeError\u001b[0m                                 Traceback (most recent call last)",
            "\u001b[0;32m<ipython-input-44-2bfdd461d1b4>\u001b[0m in \u001b[0;36m<cell line: 1>\u001b[0;34m()\u001b[0m\n\u001b[0;32m----> 1\u001b[0;31m \u001b[0mtpl\u001b[0m\u001b[0;34m[\u001b[0m\u001b[0;36m0\u001b[0m\u001b[0;34m]\u001b[0m \u001b[0;34m=\u001b[0m \u001b[0;36m1\u001b[0m\u001b[0;34m\u001b[0m\u001b[0;34m\u001b[0m\u001b[0m\n\u001b[0m",
            "\u001b[0;31mTypeError\u001b[0m: 'tuple' object does not support item assignment"
          ]
        }
      ],
      "source": [
        "tpl[0] = 1"
      ]
    },
    {
      "cell_type": "markdown",
      "metadata": {
        "id": "pPxAHGlt0Iyc"
      },
      "source": [
        "### Conjuntos\n",
        "\n",
        "Um conjunto é uma estrutura de dados semelhante a uma [lista](#Listas), mas que armazena elementos únicos sem uma ordem específica. Em Python, conjuntos podem ser definidos usando chavetas `{}`, sendo os seus elementos separados por vírgulas."
      ]
    },
    {
      "cell_type": "code",
      "execution_count": 45,
      "metadata": {
        "id": "A_qcxeEK0Iyc",
        "outputId": "bd1c3d25-12f5-44c6-dc49-b93e57d936ec",
        "colab": {
          "base_uri": "https://localhost:8080/"
        }
      },
      "outputs": [
        {
          "output_type": "stream",
          "name": "stdout",
          "text": [
            "{1, 3, 5, 'Mary'}\n"
          ]
        }
      ],
      "source": [
        "ids = {1, 5, 3, 'Mary', 5}\n",
        "print(ids)"
      ]
    },
    {
      "cell_type": "markdown",
      "metadata": {
        "id": "1ZxTiXm50Iyc"
      },
      "source": [
        "Novos elementos podem ser adicionados a um conjunto usando o método `add`. Elementos existentes podem ser removidos usando o método `remove`."
      ]
    },
    {
      "cell_type": "code",
      "execution_count": 46,
      "metadata": {
        "id": "QsYGx2EJ0Iyc",
        "outputId": "63f4cf5c-eefd-4d9b-819a-3a3bd8e5282f",
        "colab": {
          "base_uri": "https://localhost:8080/"
        }
      },
      "outputs": [
        {
          "output_type": "stream",
          "name": "stdout",
          "text": [
            "{'John', 1, 3, 'Mary'}\n"
          ]
        }
      ],
      "source": [
        "ids.add('John')\n",
        "ids.remove(5)\n",
        "\n",
        "print(ids)"
      ]
    },
    {
      "cell_type": "markdown",
      "metadata": {
        "id": "eQRYSAqB0Iyc"
      },
      "source": [
        "#### Operações\n",
        "\n",
        "- Pertenca: `x in s`\n",
        "- União: `s | k`\n",
        "- Interseção: `s & k`\n",
        "- Diferença: `s - k`"
      ]
    },
    {
      "cell_type": "code",
      "execution_count": 52,
      "metadata": {
        "id": "Il0dPPEs0Iyc",
        "outputId": "d4641205-282f-4c8d-a881-3f559fbcc044",
        "colab": {
          "base_uri": "https://localhost:8080/"
        }
      },
      "outputs": [
        {
          "output_type": "stream",
          "name": "stdout",
          "text": [
            "True\n",
            "False\n",
            "{1, 2, 3, 4, 5}\n",
            "{3}\n",
            "{1, 2}\n",
            "{3, 4, 5}\n"
          ]
        }
      ],
      "source": [
        "s = {1, 2, 3}\n",
        "k = {3, 4, 5}\n",
        "j = {6, 7}\n",
        "\n",
        "print(2 in s)\n",
        "print(2 in k)\n",
        "print(s | k)\n",
        "print(s & k)\n",
        "print(s - k)\n",
        "print (k - j)\n",
        "\n",
        "#diferença = dar o menor conjunto de valores (excluindo aqueles que intersetam)"
      ]
    },
    {
      "cell_type": "code",
      "source": [],
      "metadata": {
        "id": "eXVlfNFd9YnK"
      },
      "execution_count": 52,
      "outputs": []
    },
    {
      "cell_type": "markdown",
      "metadata": {
        "id": "Ri5WgJ7H0Iyd"
      },
      "source": [
        "### Dicionários\n",
        "\n",
        "Um dicionário é uma estrutura de dados que permite armazenar pares chave-valor, sendo cada chave única e associada ao valor respectivo. Em Python, são definidos usando uma sintaxe semelhante à dos [conjuntos](#Conjuntos), ou seja, usando chavetas `{}`, mas em que cada elemento corresponde a um par `<chave>:<valor>`. Tal como nas [listas](#Listas), os valores de um dicionário podem ser mistos e de qualquer tipo."
      ]
    },
    {
      "cell_type": "code",
      "execution_count": 75,
      "metadata": {
        "id": "0P4V5QiE0Iyd",
        "outputId": "49c6e936-e149-42ef-9557-54b329dab4eb",
        "colab": {
          "base_uri": "https://localhost:8080/"
        }
      },
      "outputs": [
        {
          "output_type": "stream",
          "name": "stdout",
          "text": [
            "Rita's contact is rita@gmail.com\n"
          ]
        }
      ],
      "source": [
        "contacts = {\n",
        "    'Luis': 'luis@iscte-iul.pt',\n",
        "    'Rita': 'rita@gmail.com',\n",
        "    'Joana': 910000000\n",
        "}\n",
        "\n",
        "print(f\"Rita's contact is {contacts['Rita']}\")"
      ]
    },
    {
      "cell_type": "markdown",
      "metadata": {
        "id": "_Xug4M5j0Iyd"
      },
      "source": [
        "Como os dicionários são mutáveis, é possível adicionar novos pares chave-valor ou alterar o valor associado a uma chave existente."
      ]
    },
    {
      "cell_type": "code",
      "execution_count": 76,
      "metadata": {
        "id": "eZdC8VlN0Iyd",
        "outputId": "cdeaa883-5963-4f33-a75e-c06cfb2ddf49",
        "colab": {
          "base_uri": "https://localhost:8080/"
        }
      },
      "outputs": [
        {
          "output_type": "stream",
          "name": "stdout",
          "text": [
            "{'Luis': 'luis@iscte-iul.pt', 'Rita': 'rita@iscte-iul.pt', 'Joana': 910000000, 'Pedro': 'pedro@gmail.com'}\n"
          ]
        }
      ],
      "source": [
        "contacts['Pedro'] = 'pedro@gmail.com'  # <- add a new element\n",
        "contacts['Rita'] = 'rita@iscte-iul.pt' # <- replace an element\n",
        "\n",
        "print(contacts)"
      ]
    },
    {
      "cell_type": "markdown",
      "metadata": {
        "id": "K8muQC6p0Iyd"
      },
      "source": [
        "Para remover uma entrada do dicionário pode ser utilizado o operador `del` ou o método `pop`, sendo que a segunda opção devolve o valor removido."
      ]
    },
    {
      "cell_type": "code",
      "execution_count": 77,
      "metadata": {
        "id": "7xcq0tul0Iye",
        "outputId": "5d5fa84a-682a-459d-d280-ef95682c61f9",
        "colab": {
          "base_uri": "https://localhost:8080/"
        }
      },
      "outputs": [
        {
          "output_type": "stream",
          "name": "stdout",
          "text": [
            "{'Luis': 'luis@iscte-iul.pt', 'Rita': 'rita@iscte-iul.pt', 'Joana': 910000000}\n",
            "910000000\n",
            "{'Luis': 'luis@iscte-iul.pt', 'Rita': 'rita@iscte-iul.pt'}\n"
          ]
        }
      ],
      "source": [
        "del contacts['Pedro']\n",
        "print(contacts)\n",
        "\n",
        "joana = contacts.pop('Joana')\n",
        "print(joana)\n",
        "print(contacts)"
      ]
    },
    {
      "cell_type": "markdown",
      "metadata": {
        "id": "kRHHJU6u0Iye"
      },
      "source": [
        "O operador `in` pode ser usado para verificar se uma chave existe num dicionário e a função `len` pode ser usada para contar o número de entradas. Para além disso, os métodos `keys`, `values` e `items` podem ser usados para obter listagens das chaves, valores e pares chave-valor, respectivamente."
      ]
    },
    {
      "cell_type": "code",
      "execution_count": 56,
      "metadata": {
        "id": "0FsnSRcj0Iye",
        "outputId": "286b6c06-dbd1-44e3-87a5-d57574d34413",
        "colab": {
          "base_uri": "https://localhost:8080/"
        }
      },
      "outputs": [
        {
          "output_type": "stream",
          "name": "stdout",
          "text": [
            "True\n",
            "2\n",
            "dict_keys(['Luis', 'Rita'])\n",
            "dict_values(['luis@iscte-iul.pt', 'rita@iscte-iul.pt'])\n",
            "dict_items([('Luis', 'luis@iscte-iul.pt'), ('Rita', 'rita@iscte-iul.pt')])\n"
          ]
        }
      ],
      "source": [
        "print('Rita' in contacts)\n",
        "print(len(contacts))\n",
        "print(contacts.keys())\n",
        "print(contacts.values())\n",
        "print(contacts.items())"
      ]
    },
    {
      "cell_type": "markdown",
      "metadata": {
        "id": "KsMkL2nN0Iye"
      },
      "source": [
        "### Tipo nulo\n",
        "\n",
        "Em Python, `None` é um objeto que representa a ausência de valor ou a falta de qualquer valor significativo. É frequentemente usado para indicar que uma variável não está associada a nenhum valor válido ou para inicializar variáveis com um valor padrão que possa ser verificado posteriormente. Para além disso é retornado por [funções](#Funções) que não têm uma instrução de retorno explícita.\n"
      ]
    },
    {
      "cell_type": "code",
      "execution_count": 78,
      "metadata": {
        "id": "lp_hwHZi0Iyf"
      },
      "outputs": [],
      "source": [
        "None"
      ]
    },
    {
      "cell_type": "markdown",
      "metadata": {
        "id": "RucPdPh70Iyf"
      },
      "source": [
        "## Estruturas de Controlo\n",
        "\n",
        "Tal como a maioria das linguagens de programação, a linguagem Python oferece um conjunto de estruturas de controlo que podem ser usadas para definir o fluxo de execução do programa. Entre estas, as mais relevantes são as condições (`if`, `elif` e `else`) e os ciclos (`while` e `for`)."
      ]
    },
    {
      "cell_type": "markdown",
      "metadata": {
        "id": "Nv17L-B80Iyf"
      },
      "source": [
        "### Exemplo"
      ]
    },
    {
      "cell_type": "code",
      "execution_count": 79,
      "metadata": {
        "id": "xBRmJEoT0Iyf",
        "outputId": "783b6ed0-4aa9-4ed1-c63a-65eb518e28f2",
        "colab": {
          "base_uri": "https://localhost:8080/"
        }
      },
      "outputs": [
        {
          "output_type": "stream",
          "name": "stdout",
          "text": [
            "1 is odd\n",
            "2 is even\n",
            "3 is odd\n"
          ]
        }
      ],
      "source": [
        "i = 1\n",
        "while i < 4:\n",
        "    if i % 2:\n",
        "        print(f'{i} is odd')\n",
        "    else:\n",
        "        print(f'{i} is even')\n",
        "    i += 1"
      ]
    },
    {
      "cell_type": "markdown",
      "metadata": {
        "id": "TxkZqXSn0Iyf"
      },
      "source": [
        "**Nota**: Ao contrário da maioria das linguagens de programação, em Python, os blocos são definidos pela indentação."
      ]
    },
    {
      "cell_type": "code",
      "execution_count": 80,
      "metadata": {
        "id": "YNNBXRJ20Iyg",
        "outputId": "8dd60779-4e4b-4b25-e380-8ce947d5bba3",
        "colab": {
          "base_uri": "https://localhost:8080/",
          "height": 106
        }
      },
      "outputs": [
        {
          "output_type": "error",
          "ename": "IndentationError",
          "evalue": "expected an indented block after 'if' statement on line 1 (<ipython-input-80-d2f4849c3be7>, line 2)",
          "traceback": [
            "\u001b[0;36m  File \u001b[0;32m\"<ipython-input-80-d2f4849c3be7>\"\u001b[0;36m, line \u001b[0;32m2\u001b[0m\n\u001b[0;31m    print('This will not work because of bad indentation.')\u001b[0m\n\u001b[0m    ^\u001b[0m\n\u001b[0;31mIndentationError\u001b[0m\u001b[0;31m:\u001b[0m expected an indented block after 'if' statement on line 1\n"
          ]
        }
      ],
      "source": [
        "if True:\n",
        "print('This will not work because of bad indentation.')"
      ]
    },
    {
      "cell_type": "markdown",
      "metadata": {
        "id": "byISMYH-0Iyi"
      },
      "source": [
        "### Condições\n",
        "\n",
        "Os blocos de execução condicional em Python são definidos usando as instruções `if`, `elif` e `else`, sendo as duas últimas opcionais.\n",
        "\n",
        "```\n",
        "if <condição>:\n",
        "    <bloco>\n",
        "elif <condição>:\n",
        "    <bloco>\n",
        "else:\n",
        "    <bloco>\n",
        "```\n",
        "\n",
        "Uma condição pode ser qualquer expressão do tipo booleano. Por exemplo:\n",
        "\n",
        "- Valor booleano: `True` ou `False`\n",
        "- Comparação: `a == b`, `a != b`, `a < b`, `a >= b`\n",
        "- Pertença: `a in lst`\n",
        "- Operação lógica: `x and y`, `x or y`, `not x`"
      ]
    },
    {
      "cell_type": "code",
      "execution_count": 81,
      "metadata": {
        "id": "tZCWQlGf0Iyi",
        "outputId": "f97f973e-0e33-46d6-baf3-d2d31409c5c0",
        "colab": {
          "base_uri": "https://localhost:8080/"
        }
      },
      "outputs": [
        {
          "output_type": "stream",
          "name": "stdout",
          "text": [
            "One good, one bad.\n"
          ]
        }
      ],
      "source": [
        "a = 2\n",
        "b = 1\n",
        "\n",
        "if a > 1 and b > 2:\n",
        "    print('Both good!')\n",
        "elif a > 1 or b > 2:\n",
        "    print('One good, one bad.')\n",
        "else:\n",
        "    print('Both bad.')"
      ]
    },
    {
      "cell_type": "code",
      "execution_count": 82,
      "metadata": {
        "id": "svMto-Ru0Iyj",
        "outputId": "db6f7706-1386-4056-a49a-af2c62cbbc8a",
        "colab": {
          "base_uri": "https://localhost:8080/"
        }
      },
      "outputs": [
        {
          "output_type": "stream",
          "name": "stdout",
          "text": [
            "Jane is not coming, but Mary can answer your questions.\n",
            "Don't worry, Mark is not coming.\n"
          ]
        }
      ],
      "source": [
        "lst = ['John', 'Mary']\n",
        "\n",
        "if 'Jane' in lst:\n",
        "    print('Yes, Jane is coming!')\n",
        "elif 'Mary' in lst:\n",
        "    print('Jane is not coming, but Mary can answer your questions.')\n",
        "\n",
        "\n",
        "if 'Mark' not in lst:\n",
        "    print(\"Don't worry, Mark is not coming.\")"
      ]
    },
    {
      "cell_type": "markdown",
      "metadata": {
        "id": "IsHzFGAi0Iyj"
      },
      "source": [
        "Apesar de não serem do tipo booleano, há varias coisas que podem ser avaliadas como tal e, por isso, usadas como condições. Por exemplo:\n",
        "\n",
        "- sequências (se estiverem vazias são avaliadas como `False`, caso contrário são avaliadas como `True`)\n",
        "- números (zero é avaliado como `False`, tudo o resto é avaliado como `True`)"
      ]
    },
    {
      "cell_type": "code",
      "execution_count": 85,
      "metadata": {
        "id": "U6VH5f8S0Iyj",
        "outputId": "3b57a2ca-2349-4b9d-a813-08e2adc473ac",
        "colab": {
          "base_uri": "https://localhost:8080/"
        }
      },
      "outputs": [
        {
          "output_type": "stream",
          "name": "stdout",
          "text": [
            "Fruity\n"
          ]
        }
      ],
      "source": [
        "fruits = ['Orange', 'Apple', 'Strawberry']\n",
        "\n",
        "if fruits:\n",
        "    print('Fruity')\n",
        "else:\n",
        "    print('Nope')"
      ]
    },
    {
      "cell_type": "code",
      "execution_count": 88,
      "metadata": {
        "id": "th3LCjPI0Iyj",
        "outputId": "fb263767-2b1d-4924-aade-8a0f993efbfd",
        "colab": {
          "base_uri": "https://localhost:8080/"
        }
      },
      "outputs": [
        {
          "output_type": "stream",
          "name": "stdout",
          "text": [
            "What's your name?Bob\n",
            "Welcome back, Bob!\n"
          ]
        }
      ],
      "source": [
        "name = input(\"What's your name?\")\n",
        "if name in ['Anna', 'Bob']:\n",
        "    print(f'Welcome back, {name}!')\n",
        "else:\n",
        "    print(f'Nice to meet you, {name}!')"
      ]
    },
    {
      "cell_type": "markdown",
      "metadata": {
        "id": "ITmvp7EQ0Iyj"
      },
      "source": [
        "Em Python existe também uma expressão condicional ternária:\n",
        "\n",
        "`<expressão> if <condição> else <expressão>`"
      ]
    },
    {
      "cell_type": "code",
      "execution_count": 89,
      "metadata": {
        "id": "6AVzWQ9r0Iyk",
        "outputId": "6aa5d86a-904b-4dc8-dee9-603b89493d0a",
        "colab": {
          "base_uri": "https://localhost:8080/"
        }
      },
      "outputs": [
        {
          "output_type": "stream",
          "name": "stdout",
          "text": [
            "2 is an even number.\n"
          ]
        }
      ],
      "source": [
        "num = 2\n",
        "\n",
        "print(f\"{num} is an {'odd' if num % 2 else 'even'} number.\")"
      ]
    },
    {
      "cell_type": "markdown",
      "metadata": {
        "id": "gdpOKeqS0Iyk"
      },
      "source": [
        "### Ciclos\n",
        "\n",
        "Os ciclos são usados para repetir um determinado bloco de código múltiplas vezes. Em Python, os ciclos mais usados são os ciclos `while` e `for`."
      ]
    },
    {
      "cell_type": "markdown",
      "metadata": {
        "id": "ZZSqXbva0Iyk"
      },
      "source": [
        "#### Ciclo `while`\n",
        "\n",
        "Se não for interrompido, um ciclo `while` é repetido enquanto uma condição se mantiver.\n",
        "\n",
        "```\n",
        "while <condição>:\n",
        "    <bloco>\n",
        "```"
      ]
    },
    {
      "cell_type": "code",
      "execution_count": 91,
      "metadata": {
        "id": "QAGzwbZ00Iyk",
        "outputId": "85bd72ba-65d1-429b-f916-add5e31090fb",
        "colab": {
          "base_uri": "https://localhost:8080/"
        }
      },
      "outputs": [
        {
          "output_type": "stream",
          "name": "stdout",
          "text": [
            "Give me a name:Bruna\n",
            "Give me a name:Pedro\n",
            "Give me a name:Filipa\n",
            "['Bruna', 'Pedro', 'Filipa']\n"
          ]
        }
      ],
      "source": [
        "names = []\n",
        "while len(names) < 3:\n",
        "    name = input('Give me a name:')\n",
        "    names.append(name)\n",
        "\n",
        "# print(names)"
      ]
    },
    {
      "cell_type": "code",
      "execution_count": 92,
      "metadata": {
        "id": "WIrirxOv0Iyk",
        "outputId": "bf4e082e-9bed-4fea-f707-54fac4d1129f",
        "colab": {
          "base_uri": "https://localhost:8080/"
        }
      },
      "outputs": [
        {
          "output_type": "stream",
          "name": "stdout",
          "text": [
            "23 // 5 = 4\n",
            "4\n"
          ]
        }
      ],
      "source": [
        "# poor man's division\n",
        "a = 23\n",
        "b = 5\n",
        "\n",
        "c = a\n",
        "i = 0\n",
        "while c > b:\n",
        "    c -= b\n",
        "    i += 1\n",
        "\n",
        "print(f'{a} // {b} = {i}')\n",
        "print(23 // 5)"
      ]
    },
    {
      "cell_type": "markdown",
      "metadata": {
        "id": "kjK6lWX60Iyl"
      },
      "source": [
        "Um ciclo pode ser interrompido usando a instrução `break`. Para além disso, é possível saltar para a iteração seguinte usando a instrução `continue`."
      ]
    },
    {
      "cell_type": "code",
      "execution_count": 93,
      "metadata": {
        "id": "orYrsFSW0Iyl",
        "outputId": "b14465da-b368-40bb-ee38-c378eb72c73a",
        "colab": {
          "base_uri": "https://localhost:8080/"
        }
      },
      "outputs": [
        {
          "output_type": "stream",
          "name": "stdout",
          "text": [
            "1\n",
            "4\n"
          ]
        }
      ],
      "source": [
        "lst = [2, 1, 4, 3, 6]\n",
        "i = 0\n",
        "\n",
        "while i < len(lst):\n",
        "    v = lst[i]\n",
        "    i += 1\n",
        "\n",
        "    if v == 3:\n",
        "        break\n",
        "    elif v == 2:\n",
        "        continue\n",
        "    else:\n",
        "        print(v)\n",
        ""
      ]
    },
    {
      "cell_type": "markdown",
      "metadata": {
        "id": "9bNV7sj-0Iyl"
      },
      "source": [
        "#### Ciclo `for`\n",
        "\n",
        "Em Python, um ciclo `for` serve para iterar sobre uma sequência.\n",
        "\n",
        "```\n",
        "for <variável(eis)> in <sequência>:\n",
        "    <bloco>\n",
        "```"
      ]
    },
    {
      "cell_type": "code",
      "execution_count": 94,
      "metadata": {
        "id": "_U9wiDWX0Iyl",
        "outputId": "18ca4480-d916-4fcc-b7e8-35ad4fdfcc11",
        "colab": {
          "base_uri": "https://localhost:8080/"
        }
      },
      "outputs": [
        {
          "output_type": "stream",
          "name": "stdout",
          "text": [
            "Rachel\n",
            "Michael\n",
            "Robert\n"
          ]
        }
      ],
      "source": [
        "students = ['Rachel', 'Michael', 'Robert']\n",
        "\n",
        "for s in students:\n",
        "    print(s)"
      ]
    },
    {
      "cell_type": "code",
      "execution_count": 95,
      "metadata": {
        "id": "K4ZVMuRH0Iyl",
        "outputId": "1c308563-d998-410b-d21e-0da8dd40d851",
        "colab": {
          "base_uri": "https://localhost:8080/"
        }
      },
      "outputs": [
        {
          "output_type": "stream",
          "name": "stdout",
          "text": [
            "Rachel: \t18\n",
            "Michael: \t10\n",
            "Robert: \t15\n"
          ]
        }
      ],
      "source": [
        "grades = {'Rachel': 18, 'Michael': 10, 'Robert': 15}\n",
        "\n",
        "for s, g in grades.items():\n",
        "    print(f'{s}: \\t{g}')"
      ]
    },
    {
      "cell_type": "markdown",
      "metadata": {
        "id": "fCpsFE0X0Iym"
      },
      "source": [
        "As instruções `break` e `continue` também podem ser usadas em ciclos `for`."
      ]
    },
    {
      "cell_type": "code",
      "execution_count": 96,
      "metadata": {
        "id": "yKzsQjDt0Iym",
        "outputId": "56e2a168-8851-4822-cccf-4a0a60646f21",
        "colab": {
          "base_uri": "https://localhost:8080/"
        }
      },
      "outputs": [
        {
          "output_type": "stream",
          "name": "stdout",
          "text": [
            "1\n",
            "4\n"
          ]
        }
      ],
      "source": [
        "lst = [2, 1, 4, 3, 6]\n",
        "\n",
        "for v in lst:\n",
        "    if v == 3:\n",
        "        break\n",
        "    elif v == 2:\n",
        "        continue\n",
        "    else:\n",
        "        print(v)"
      ]
    },
    {
      "cell_type": "markdown",
      "metadata": {
        "id": "Tnogkv3r0Iym"
      },
      "source": [
        "Em muitas linguagens de programação, os ciclos `for` são usados para repetir uma operação *n* vezes ou iterar sobre uma sequência de inteiros. Em Python, um comportamento semelhante pode ser obtido usando a função `range`."
      ]
    },
    {
      "cell_type": "code",
      "execution_count": 97,
      "metadata": {
        "id": "n-IJabXf0Iym",
        "outputId": "27d39a20-357d-476f-c8e7-b8cc202be729",
        "colab": {
          "base_uri": "https://localhost:8080/"
        }
      },
      "outputs": [
        {
          "output_type": "stream",
          "name": "stdout",
          "text": [
            "0 0\n",
            "1 1\n",
            "2 4\n",
            "3 9\n",
            "4 16\n"
          ]
        }
      ],
      "source": [
        "for i in range(5): # [0, 5[\n",
        "    print(i, i**2)"
      ]
    },
    {
      "cell_type": "code",
      "execution_count": 98,
      "metadata": {
        "id": "06i6A6Lf0Iym",
        "outputId": "e28f9e18-f94b-42b8-ebb6-4dabac27def1",
        "colab": {
          "base_uri": "https://localhost:8080/"
        }
      },
      "outputs": [
        {
          "output_type": "stream",
          "name": "stdout",
          "text": [
            "5 25\n",
            "6 36\n",
            "7 49\n",
            "8 64\n",
            "9 81\n"
          ]
        }
      ],
      "source": [
        "for i in range(5, 10): # [5, 10[\n",
        "    print(i, i**2)"
      ]
    },
    {
      "cell_type": "code",
      "execution_count": 99,
      "metadata": {
        "id": "-ZgonCRw0Iyn",
        "outputId": "2f5578a7-7b6f-4756-a83b-6cc4f9fff7d0",
        "colab": {
          "base_uri": "https://localhost:8080/"
        }
      },
      "outputs": [
        {
          "output_type": "stream",
          "name": "stdout",
          "text": [
            "10 100\n",
            "12 144\n",
            "14 196\n",
            "16 256\n",
            "18 324\n"
          ]
        }
      ],
      "source": [
        "for i in range(10, 20, 2): # [10, 20[ in steps of 2\n",
        "    print(i, i**2)"
      ]
    },
    {
      "cell_type": "markdown",
      "metadata": {
        "id": "LyHdZG590Iyn"
      },
      "source": [
        "Em Python, existe também uma operação, chamada compreensão de lista, que pode ser usada para iterar sobre uma sequência e gerar uma nova sequência:\n",
        "\n",
        "`<expressão> for <variável(eis)> in <sequência> [if <condição>]`"
      ]
    },
    {
      "cell_type": "code",
      "execution_count": 100,
      "metadata": {
        "id": "-exo2fsk0Iyn",
        "outputId": "4067a75f-1f27-4db0-8d5d-42026a9b961e",
        "colab": {
          "base_uri": "https://localhost:8080/"
        }
      },
      "outputs": [
        {
          "output_type": "execute_result",
          "data": {
            "text/plain": [
              "[0, 1, 4, 9, 16]"
            ]
          },
          "metadata": {},
          "execution_count": 100
        }
      ],
      "source": [
        "[x**2 for x in range(5)]"
      ]
    },
    {
      "cell_type": "code",
      "execution_count": 101,
      "metadata": {
        "id": "eXa0wyfi0Iyn",
        "outputId": "d75a7d98-836d-4048-c607-69c9017b504c",
        "colab": {
          "base_uri": "https://localhost:8080/"
        }
      },
      "outputs": [
        {
          "output_type": "execute_result",
          "data": {
            "text/plain": [
              "{1: 1, 3: 9}"
            ]
          },
          "metadata": {},
          "execution_count": 101
        }
      ],
      "source": [
        "{x: x**2 for x in range(5) if x % 2}"
      ]
    },
    {
      "cell_type": "markdown",
      "metadata": {
        "id": "gE_et4iQ0Iyn"
      },
      "source": [
        "## Funções\n",
        "\n",
        "Em Python, funções são definidas usando a seguinte sintaxe:\n",
        "\n",
        "```\n",
        "def <nome>(<argumentos>):\n",
        "    <bloco>\n",
        "```"
      ]
    },
    {
      "cell_type": "code",
      "execution_count": 102,
      "metadata": {
        "id": "56JixCZ50Iyn"
      },
      "outputs": [],
      "source": [
        "def double(x):\n",
        "    return 2 * x\n",
        "\n",
        "def sub(x, y):\n",
        "    return x - y\n",
        "\n",
        "def smile(): # This is a procedure\n",
        "    print(':)')"
      ]
    },
    {
      "cell_type": "markdown",
      "metadata": {
        "id": "5nbgNORO0Iyo"
      },
      "source": [
        "**Nota**: Neste exemplo, a função `smile` não define um valor de retorno, apenas imprime algo. Na prática, é devolvido o valor `None`. Este tipo de função costuma ser chamado *procedimento*."
      ]
    },
    {
      "cell_type": "markdown",
      "metadata": {
        "id": "zqlYPOdz0Iyo"
      },
      "source": [
        "Como visto anteriormente, uma função pode ser chamada usando a sintaxe `<nome>(<argumentos>)`."
      ]
    },
    {
      "cell_type": "code",
      "execution_count": 103,
      "metadata": {
        "id": "dD6M-ylC0Iyo",
        "outputId": "c851ab66-a8ec-44c0-9028-6f952619916e",
        "colab": {
          "base_uri": "https://localhost:8080/"
        }
      },
      "outputs": [
        {
          "output_type": "stream",
          "name": "stdout",
          "text": [
            ":)\n"
          ]
        },
        {
          "output_type": "execute_result",
          "data": {
            "text/plain": [
              "13"
            ]
          },
          "metadata": {},
          "execution_count": 103
        }
      ],
      "source": [
        "smile()\n",
        "\n",
        "sub(double(10), 7)"
      ]
    },
    {
      "cell_type": "markdown",
      "metadata": {
        "id": "0oKqwgez0Iyo"
      },
      "source": [
        "Ao definir uma função, é possível definir valores predefinidos para os argumentos."
      ]
    },
    {
      "cell_type": "code",
      "execution_count": 104,
      "metadata": {
        "id": "OykgWylP0Iyo",
        "outputId": "5bf43167-4898-4d2f-d077-e0e7f6343cc4",
        "colab": {
          "base_uri": "https://localhost:8080/"
        }
      },
      "outputs": [
        {
          "output_type": "stream",
          "name": "stdout",
          "text": [
            "Hello Mario!\n",
            "Goodbye Mario!\n"
          ]
        }
      ],
      "source": [
        "def greet(name, greeting='Hello'):\n",
        "    print(f'{greeting} {name}!')\n",
        "\n",
        "greet('Mario')\n",
        "greet('Mario', 'Goodbye')"
      ]
    },
    {
      "cell_type": "markdown",
      "metadata": {
        "id": "QZs7SZ9n0Iyp"
      },
      "source": [
        "Na chamada a funções, os argumentos podem também ser referenciados por nome. Neste caso, a ordem é irrelevante, o que é muito útil para funções com um número elevado de argumentos."
      ]
    },
    {
      "cell_type": "code",
      "execution_count": 105,
      "metadata": {
        "id": "YMH_8HhO0Iyp",
        "outputId": "716f5446-f036-499d-e9d1-07bb46f29c66",
        "colab": {
          "base_uri": "https://localhost:8080/"
        }
      },
      "outputs": [
        {
          "output_type": "stream",
          "name": "stdout",
          "text": [
            "Hi Charlie!\n"
          ]
        }
      ],
      "source": [
        "greet(greeting='Hi' , name='Charlie')"
      ]
    },
    {
      "cell_type": "markdown",
      "metadata": {
        "id": "KbpB9qWj0Iyp"
      },
      "source": [
        "A definição de funções é um dos casos em que é possível explicitar tipos. Neste caso, dos argumentos e do valor de retorno da função."
      ]
    },
    {
      "cell_type": "code",
      "execution_count": 106,
      "metadata": {
        "id": "41QwWwl30Iyp"
      },
      "outputs": [],
      "source": [
        "def triple(x: int) -> int:\n",
        "    \"\"\"\n",
        "    Returns the triple of its argument\n",
        "    \"\"\"\n",
        "    return 3 * x"
      ]
    },
    {
      "cell_type": "markdown",
      "metadata": {
        "id": "k4ZVv-wu0Iyp"
      },
      "source": [
        "**Nota**: Tal como referido anteriormente, a não ser que sejam usadas ferramentas externas, a informação sobre tipos serve apenas para melhorar a legibilidade do código e não é usada durante a sua execução."
      ]
    },
    {
      "cell_type": "code",
      "execution_count": 107,
      "metadata": {
        "id": "G-j9dTZD0Iyp",
        "outputId": "3f99ac94-2cc1-45fb-eea2-b193aa2c92dd",
        "colab": {
          "base_uri": "https://localhost:8080/"
        }
      },
      "outputs": [
        {
          "output_type": "execute_result",
          "data": {
            "text/plain": [
              "9.0"
            ]
          },
          "metadata": {},
          "execution_count": 107
        }
      ],
      "source": [
        "triple(3.0)"
      ]
    },
    {
      "cell_type": "markdown",
      "metadata": {
        "id": "_lvNDo2V0Iyq"
      },
      "source": [
        "**Nota**: O texto que acompanha a função `triple` é usado como documentação."
      ]
    },
    {
      "cell_type": "code",
      "execution_count": 108,
      "metadata": {
        "id": "4ZWBAnHt0Iyq"
      },
      "outputs": [],
      "source": [
        "triple?"
      ]
    }
  ],
  "metadata": {
    "celltoolbar": "Slideshow",
    "kernelspec": {
      "display_name": "Python 3 (ipykernel)",
      "language": "python",
      "name": "python3"
    },
    "language_info": {
      "codemirror_mode": {
        "name": "ipython",
        "version": 3
      },
      "file_extension": ".py",
      "mimetype": "text/x-python",
      "name": "python",
      "nbconvert_exporter": "python",
      "pygments_lexer": "ipython3",
      "version": "3.10.10"
    },
    "rise": {
      "scroll": true
    },
    "toc-autonumbering": false,
    "toc-showtags": false,
    "colab": {
      "provenance": [],
      "include_colab_link": true
    }
  },
  "nbformat": 4,
  "nbformat_minor": 0
}